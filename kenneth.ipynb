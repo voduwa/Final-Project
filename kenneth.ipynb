{
 "cells": [
  {
   "cell_type": "code",
   "execution_count": 27,
   "metadata": {},
   "outputs": [],
   "source": [
    "import pandas as pd\n",
    "import openpyxl"
   ]
  },
  {
   "cell_type": "markdown",
   "metadata": {},
   "source": [
    "## Converting csv into pandas dataframe\n",
    "\n",
    "Converting the **MERGEDXXXX_YY_PP.csv** files to dataframes with `read_csv()` causes an error regarding mixed types in columns. I'm using the `low_memory=False` argument to continue, but should consider using the `converters` or `dtype` args.\n",
    "\n",
    "With `converters`:    \n",
    "```Python\n",
    "def convert_dtype(x):\n",
    "    if not x:\n",
    "        return ''\n",
    "    try:\n",
    "        return str(x)   \n",
    "    except:        \n",
    "        return ''\n",
    "\n",
    "pd.read_csv('file.csv',converters={'first_column': convert_dtype,'second_column': convert_dtype})\n",
    "```\n",
    "\n",
    "With `dtype`:\n",
    "```Python\n",
    "pd.read_csv('file.csv', dtype={'first_column'='string', 'second_column'='string'})\n",
    "```\n",
    "\n",
    "The problem with either of these approaches in this context is that this dataset is wide (2000+ columns) and a lot of columns seem to have mixed columns. I will research how to solve this problem without ignoring memory concerns.\n",
    "\n",
    "The advantage we have when using `low_memory=False` is that the dataset is not large (6000+ rows), so the converstion from csv to dataframe is quick (~80ms on my machine)\n",
    "\n",
    "Reference: <a href=\"https://www.roelpeters.be/solved-dtypewarning-columns-have-mixed-types-specify-dtype-option-on-import-or-set-low-memory-in-pandas/\">dtype warning: columns have mixed types</a>"
   ]
  },
  {
   "cell_type": "code",
   "execution_count": 3,
   "metadata": {},
   "outputs": [],
   "source": [
    "df18 = pd.read_csv(\"data/MERGED2018_19_PP.csv\",low_memory=False)\n",
    "dfc18 = df18.copy() # create a copy of original df"
   ]
  },
  {
   "cell_type": "markdown",
   "metadata": {},
   "source": [
    "## Analysis"
   ]
  },
  {
   "cell_type": "markdown",
   "metadata": {},
   "source": [
    "First we want to drop all fully empty columns"
   ]
  },
  {
   "cell_type": "code",
   "execution_count": 4,
   "metadata": {},
   "outputs": [
    {
     "name": "stdout",
     "output_type": "stream",
     "text": [
      "original '18 shape: (6806, 2044) \n",
      "      after dropna: (6806, 711)\n"
     ]
    }
   ],
   "source": [
    "dfc18 = dfc18.dropna(axis='columns',how='all')\n",
    "print(f'original \\'18 shape: {df18.shape} \\n      after dropna: {dfc18.shape}')"
   ]
  },
  {
   "cell_type": "markdown",
   "metadata": {},
   "source": [
    "We removed 1333 fully empty columns. Note: *We should probably inspect what columns they are in case the null values provide some sort of insight*"
   ]
  },
  {
   "cell_type": "markdown",
   "metadata": {},
   "source": [
    "Next, let's filter which schools we are focused on (4 year institutions):"
   ]
  },
  {
   "cell_type": "code",
   "execution_count": 5,
   "metadata": {},
   "outputs": [
    {
     "data": {
      "text/plain": [
       "(2725, 711)"
      ]
     },
     "execution_count": 5,
     "metadata": {},
     "output_type": "execute_result"
    }
   ],
   "source": [
    "is_4year = dfc18['HIGHDEG'] >= 3\n",
    "dfc18_4yr = dfc18[is_4year]\n",
    "dfc18_4yr.shape"
   ]
  },
  {
   "cell_type": "markdown",
   "metadata": {},
   "source": [
    "We've got 2725 4-year schools. Let's see how many columns have null values, and go from there."
   ]
  },
  {
   "cell_type": "code",
   "execution_count": 6,
   "metadata": {},
   "outputs": [
    {
     "data": {
      "text/plain": [
       "693"
      ]
     },
     "execution_count": 6,
     "metadata": {},
     "output_type": "execute_result"
    }
   ],
   "source": [
    "len(dfc18_4yr.columns[dfc18.isnull().any() == True].tolist())"
   ]
  },
  {
   "cell_type": "code",
   "execution_count": 7,
   "metadata": {},
   "outputs": [],
   "source": [
    "rec_co = pd.read_csv(\"data/Most-Recent-Cohorts-All-Data-Elements.csv\", low_memory=False)"
   ]
  },
  {
   "cell_type": "code",
   "execution_count": 8,
   "metadata": {},
   "outputs": [
    {
     "data": {
      "text/plain": [
       "(6806, 2045)"
      ]
     },
     "execution_count": 8,
     "metadata": {},
     "output_type": "execute_result"
    }
   ],
   "source": [
    "rec_co.shape"
   ]
  },
  {
   "cell_type": "markdown",
   "metadata": {},
   "source": [
    "## Basic EDA Assignment\n",
    "\n",
    "Extracting the dataset to be used for Milestone 1 of the project"
   ]
  },
  {
   "cell_type": "code",
   "execution_count": 22,
   "metadata": {},
   "outputs": [],
   "source": [
    "# using dfc18_4yr from In[5]\n",
    "# 'SCH_DEG' 'LOCALE2' 'UG' 'NPT4_PROG' 'NPT4_OTHER' 'NPT41_PROG' 'NPT42_PROG'\n",
    "# 'NPT43_PROG' 'NPT44_PROG' 'NPT45_PROG' 'NPT41_OTHER' 'NPT42_OTHER' 'NPT43_OTHER'\n",
    "# 'NPT44_OTHER' 'NPT45_OTHER' 'NPT4_048_PROG' 'NPT4_048_OTHER' 'NPT4_3075_PROG'\n",
    "# 'NPT4_3075_OTHER' 'NPT4_75UP_PROG' 'NPT4_75UP_OTHER' 'NUM4_PROG' 'NUM4_OTHER' \n",
    "# 'NUM41_PROG' 'NUM42_PROG' 'NUM43_PROG' 'NUM44_PROG' 'NUM45_PROG' 'NUM41_OTHER' \n",
    "# 'NUM42_OTHER' 'NUM43_OTHER' 'NUM44_OTHER' 'NUM45_OTHER' 'UG25ABV' 'RPY_1YR_RT' \n",
    "# 'COMPL_RPY_1YR_RT' 'LO_INC_RPY_1YR_RT' 'MD_INC_RPY_1YR_RT' 'HI_INC_RPY_1YR_RT' \n",
    "# 'DEP_RPY_1YR_RT' 'IND_RPY_1YR_RT' 'PELL_RPY_1YR_RT' 'NOPELL_RPY_1YR_RT' \n",
    "# 'FEMALE_RPY_1YR_RT' 'MALE_RPY_1YR_RT' 'FIRSTGEN_RPY_1YR_RT' 'NOTFIRSTGEN_RPY_1YR_RT' \n",
    "# 'INC_PCT_LO' 'DEP_STAT_PCT_IND' 'IND_INC_PCT_LO' 'DEP_INC_PCT_LO' 'PAR_ED_PCT_1STGEN' \n",
    "# 'INC_PCT_M1' 'INC_PCT_M2' 'INC_PCT_H1' 'INC_PCT_H2'\n",
    "m1_list = ['UNITID', 'OPEID', 'OPEID6', 'INSTNM', 'CITY', 'STABBR', 'ZIP', 'INSTURL',\n",
    "           'NPCURL', 'MAIN', 'NUMBRANCH', 'PREDDEG', 'HIGHDEG', 'CONTROL',\n",
    "           'ST_FIPS', 'REGION', 'LOCALE', 'CCUGPROF', 'CCSIZSET', 'MENONLY',\n",
    "           'WOMENONLY', 'RELAFFIL', 'ADM_RATE', 'DISTANCEONLY', 'UGDS', 'CURROPER',\n",
    "           'NPT4_PUB', 'NPT4_PRIV', 'NPT41_PUB', 'NPT42_PUB', 'NPT43_PUB', 'NPT44_PUB',\n",
    "           'NPT45_PUB', 'NPT41_PRIV', 'NPT42_PRIV', 'NPT43_PRIV', 'NPT44_PRIV',\n",
    "           'NPT45_PRIV', 'NPT4_048_PUB', 'NPT4_048_PRIV', 'NPT4_3075_PUB', \n",
    "           'NPT4_3075_PRIV', 'NPT4_75UP_PUB', 'NPT4_75UP_PRIV', 'NUM4_PUB', 'NUM4_PRIV',\n",
    "           'NUM41_PUB', 'NUM42_PUB', 'NUM43_PUB', 'NUM44_PUB', 'NUM45_PUB', 'NUM41_PRIV',\n",
    "           'NUM42_PRIV', 'NUM43_PRIV', 'NUM44_PRIV', 'NUM45_PRIV', 'COSTT4_A', 'COSTT4_P', \n",
    "           'TUITIONFEE_IN', 'TUITIONFEE_OUT', 'TUITIONFEE_PROG', 'PFTFAC', 'PCTPELL', 'RET_FT4',\n",
    "           'RET_PT4', 'PCTFLOAN']"
   ]
  },
  {
   "cell_type": "code",
   "execution_count": 23,
   "metadata": {},
   "outputs": [],
   "source": [
    "df_m1 = dfc18_4yr[m1_list]"
   ]
  },
  {
   "cell_type": "code",
   "execution_count": 24,
   "metadata": {},
   "outputs": [
    {
     "data": {
      "text/html": [
       "<div>\n",
       "<style scoped>\n",
       "    .dataframe tbody tr th:only-of-type {\n",
       "        vertical-align: middle;\n",
       "    }\n",
       "\n",
       "    .dataframe tbody tr th {\n",
       "        vertical-align: top;\n",
       "    }\n",
       "\n",
       "    .dataframe thead th {\n",
       "        text-align: right;\n",
       "    }\n",
       "</style>\n",
       "<table border=\"1\" class=\"dataframe\">\n",
       "  <thead>\n",
       "    <tr style=\"text-align: right;\">\n",
       "      <th></th>\n",
       "      <th>UNITID</th>\n",
       "      <th>OPEID</th>\n",
       "      <th>OPEID6</th>\n",
       "      <th>INSTNM</th>\n",
       "      <th>CITY</th>\n",
       "      <th>STABBR</th>\n",
       "      <th>ZIP</th>\n",
       "      <th>INSTURL</th>\n",
       "      <th>NPCURL</th>\n",
       "      <th>MAIN</th>\n",
       "      <th>...</th>\n",
       "      <th>COSTT4_A</th>\n",
       "      <th>COSTT4_P</th>\n",
       "      <th>TUITIONFEE_IN</th>\n",
       "      <th>TUITIONFEE_OUT</th>\n",
       "      <th>TUITIONFEE_PROG</th>\n",
       "      <th>PFTFAC</th>\n",
       "      <th>PCTPELL</th>\n",
       "      <th>RET_FT4</th>\n",
       "      <th>RET_PT4</th>\n",
       "      <th>PCTFLOAN</th>\n",
       "    </tr>\n",
       "  </thead>\n",
       "  <tbody>\n",
       "    <tr>\n",
       "      <th>0</th>\n",
       "      <td>100654</td>\n",
       "      <td>100200</td>\n",
       "      <td>1002</td>\n",
       "      <td>Alabama A &amp; M University</td>\n",
       "      <td>Normal</td>\n",
       "      <td>AL</td>\n",
       "      <td>35762</td>\n",
       "      <td>www.aamu.edu/</td>\n",
       "      <td>www.aamu.edu/admissions-aid/tuition-fees/net-p...</td>\n",
       "      <td>1</td>\n",
       "      <td>...</td>\n",
       "      <td>22489.0</td>\n",
       "      <td>NaN</td>\n",
       "      <td>9744.0</td>\n",
       "      <td>18354.0</td>\n",
       "      <td>NaN</td>\n",
       "      <td>0.7411</td>\n",
       "      <td>0.7067</td>\n",
       "      <td>0.6087</td>\n",
       "      <td>1.0000</td>\n",
       "      <td>0.7503</td>\n",
       "    </tr>\n",
       "    <tr>\n",
       "      <th>1</th>\n",
       "      <td>100663</td>\n",
       "      <td>105200</td>\n",
       "      <td>1052</td>\n",
       "      <td>University of Alabama at Birmingham</td>\n",
       "      <td>Birmingham</td>\n",
       "      <td>AL</td>\n",
       "      <td>35294-0110</td>\n",
       "      <td>https://www.uab.edu</td>\n",
       "      <td>https://uab.studentaidcalculator.com/survey.aspx</td>\n",
       "      <td>1</td>\n",
       "      <td>...</td>\n",
       "      <td>24347.0</td>\n",
       "      <td>NaN</td>\n",
       "      <td>8568.0</td>\n",
       "      <td>19704.0</td>\n",
       "      <td>NaN</td>\n",
       "      <td>0.7766</td>\n",
       "      <td>0.3632</td>\n",
       "      <td>0.8186</td>\n",
       "      <td>0.4648</td>\n",
       "      <td>0.5127</td>\n",
       "    </tr>\n",
       "    <tr>\n",
       "      <th>2</th>\n",
       "      <td>100690</td>\n",
       "      <td>2503400</td>\n",
       "      <td>25034</td>\n",
       "      <td>Amridge University</td>\n",
       "      <td>Montgomery</td>\n",
       "      <td>AL</td>\n",
       "      <td>36117-3553</td>\n",
       "      <td>www.amridgeuniversity.edu</td>\n",
       "      <td>www2.amridgeuniversity.edu:9091/</td>\n",
       "      <td>1</td>\n",
       "      <td>...</td>\n",
       "      <td>17680.0</td>\n",
       "      <td>NaN</td>\n",
       "      <td>6900.0</td>\n",
       "      <td>6900.0</td>\n",
       "      <td>NaN</td>\n",
       "      <td>1.0000</td>\n",
       "      <td>0.7673</td>\n",
       "      <td>NaN</td>\n",
       "      <td>NaN</td>\n",
       "      <td>0.8962</td>\n",
       "    </tr>\n",
       "    <tr>\n",
       "      <th>3</th>\n",
       "      <td>100706</td>\n",
       "      <td>105500</td>\n",
       "      <td>1055</td>\n",
       "      <td>University of Alabama in Huntsville</td>\n",
       "      <td>Huntsville</td>\n",
       "      <td>AL</td>\n",
       "      <td>35899</td>\n",
       "      <td>www.uah.edu</td>\n",
       "      <td>finaid.uah.edu/</td>\n",
       "      <td>1</td>\n",
       "      <td>...</td>\n",
       "      <td>23441.0</td>\n",
       "      <td>NaN</td>\n",
       "      <td>10714.0</td>\n",
       "      <td>22362.0</td>\n",
       "      <td>NaN</td>\n",
       "      <td>0.6544</td>\n",
       "      <td>0.2698</td>\n",
       "      <td>0.8288</td>\n",
       "      <td>0.0909</td>\n",
       "      <td>0.4192</td>\n",
       "    </tr>\n",
       "    <tr>\n",
       "      <th>4</th>\n",
       "      <td>100724</td>\n",
       "      <td>100500</td>\n",
       "      <td>1005</td>\n",
       "      <td>Alabama State University</td>\n",
       "      <td>Montgomery</td>\n",
       "      <td>AL</td>\n",
       "      <td>36104-0271</td>\n",
       "      <td>www.alasu.edu</td>\n",
       "      <td>www.alasu.edu/cost-aid/tuition-costs/net-price...</td>\n",
       "      <td>1</td>\n",
       "      <td>...</td>\n",
       "      <td>21476.0</td>\n",
       "      <td>NaN</td>\n",
       "      <td>11068.0</td>\n",
       "      <td>19396.0</td>\n",
       "      <td>NaN</td>\n",
       "      <td>0.5826</td>\n",
       "      <td>0.7448</td>\n",
       "      <td>0.5868</td>\n",
       "      <td>0.1250</td>\n",
       "      <td>0.7845</td>\n",
       "    </tr>\n",
       "  </tbody>\n",
       "</table>\n",
       "<p>5 rows × 66 columns</p>\n",
       "</div>"
      ],
      "text/plain": [
       "   UNITID    OPEID  OPEID6                               INSTNM        CITY  \\\n",
       "0  100654   100200    1002             Alabama A & M University      Normal   \n",
       "1  100663   105200    1052  University of Alabama at Birmingham  Birmingham   \n",
       "2  100690  2503400   25034                   Amridge University  Montgomery   \n",
       "3  100706   105500    1055  University of Alabama in Huntsville  Huntsville   \n",
       "4  100724   100500    1005             Alabama State University  Montgomery   \n",
       "\n",
       "  STABBR         ZIP                    INSTURL  \\\n",
       "0     AL       35762              www.aamu.edu/   \n",
       "1     AL  35294-0110        https://www.uab.edu   \n",
       "2     AL  36117-3553  www.amridgeuniversity.edu   \n",
       "3     AL       35899                www.uah.edu   \n",
       "4     AL  36104-0271              www.alasu.edu   \n",
       "\n",
       "                                              NPCURL  MAIN    ...     \\\n",
       "0  www.aamu.edu/admissions-aid/tuition-fees/net-p...     1    ...      \n",
       "1   https://uab.studentaidcalculator.com/survey.aspx     1    ...      \n",
       "2                   www2.amridgeuniversity.edu:9091/     1    ...      \n",
       "3                                    finaid.uah.edu/     1    ...      \n",
       "4  www.alasu.edu/cost-aid/tuition-costs/net-price...     1    ...      \n",
       "\n",
       "   COSTT4_A  COSTT4_P  TUITIONFEE_IN  TUITIONFEE_OUT  TUITIONFEE_PROG  PFTFAC  \\\n",
       "0   22489.0       NaN         9744.0         18354.0              NaN  0.7411   \n",
       "1   24347.0       NaN         8568.0         19704.0              NaN  0.7766   \n",
       "2   17680.0       NaN         6900.0          6900.0              NaN  1.0000   \n",
       "3   23441.0       NaN        10714.0         22362.0              NaN  0.6544   \n",
       "4   21476.0       NaN        11068.0         19396.0              NaN  0.5826   \n",
       "\n",
       "   PCTPELL  RET_FT4  RET_PT4  PCTFLOAN  \n",
       "0   0.7067   0.6087   1.0000    0.7503  \n",
       "1   0.3632   0.8186   0.4648    0.5127  \n",
       "2   0.7673      NaN      NaN    0.8962  \n",
       "3   0.2698   0.8288   0.0909    0.4192  \n",
       "4   0.7448   0.5868   0.1250    0.7845  \n",
       "\n",
       "[5 rows x 66 columns]"
      ]
     },
     "execution_count": 24,
     "metadata": {},
     "output_type": "execute_result"
    }
   ],
   "source": [
    "df_m1.head()"
   ]
  },
  {
   "cell_type": "code",
   "execution_count": 28,
   "metadata": {},
   "outputs": [],
   "source": [
    "df_m1.to_excel('data/milestone1_prelim_dataset.xlsx', index = False)"
   ]
  },
  {
   "cell_type": "code",
   "execution_count": null,
   "metadata": {},
   "outputs": [],
   "source": []
  }
 ],
 "metadata": {
  "kernelspec": {
   "display_name": "Python 3",
   "language": "python",
   "name": "python3"
  },
  "language_info": {
   "codemirror_mode": {
    "name": "ipython",
    "version": 3
   },
   "file_extension": ".py",
   "mimetype": "text/x-python",
   "name": "python",
   "nbconvert_exporter": "python",
   "pygments_lexer": "ipython3",
   "version": "3.6.7"
  }
 },
 "nbformat": 4,
 "nbformat_minor": 2
}
